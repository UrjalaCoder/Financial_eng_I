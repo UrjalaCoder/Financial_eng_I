{
 "cells": [
  {
   "cell_type": "code",
   "execution_count": 2,
   "metadata": {},
   "outputs": [
    {
     "name": "stdout",
     "output_type": "stream",
     "text": [
      "Collecting pyfinance\n",
      "  Downloading pyfinance-1.3.0-py3-none-any.whl (57 kB)\n",
      "\u001b[K     |████████████████████████████████| 57 kB 11.9 MB/s eta 0:00:01\n",
      "\u001b[?25hRequirement already satisfied: matplotlib in /home/tuomas/miniconda3/envs/Jupyter_env/lib/python3.8/site-packages (from pyfinance) (3.3.4)\n",
      "Collecting seaborn\n",
      "  Downloading seaborn-0.11.2-py3-none-any.whl (292 kB)\n",
      "\u001b[K     |████████████████████████████████| 292 kB 106.7 MB/s eta 0:00:01\n",
      "\u001b[?25hCollecting scikit-learn\n",
      "  Downloading scikit_learn-1.0.2-cp38-cp38-manylinux_2_17_x86_64.manylinux2014_x86_64.whl (26.7 MB)\n",
      "\u001b[K     |████████████████████████████████| 26.7 MB 88.0 MB/s eta 0:00:01\n",
      "\u001b[?25hCollecting xlrd\n",
      "  Downloading xlrd-2.0.1-py2.py3-none-any.whl (96 kB)\n",
      "\u001b[K     |████████████████████████████████| 96 kB 17.2 MB/s  eta 0:00:01\n",
      "\u001b[?25hRequirement already satisfied: requests in /home/tuomas/miniconda3/envs/Jupyter_env/lib/python3.8/site-packages (from pyfinance) (2.25.1)\n",
      "Collecting pandas-datareader\n",
      "  Downloading pandas_datareader-0.10.0-py3-none-any.whl (109 kB)\n",
      "\u001b[K     |████████████████████████████████| 109 kB 134.8 MB/s eta 0:00:01\n",
      "\u001b[?25hCollecting xmltodict\n",
      "  Downloading xmltodict-0.12.0-py2.py3-none-any.whl (9.2 kB)\n",
      "Requirement already satisfied: numpy in /home/tuomas/miniconda3/envs/Jupyter_env/lib/python3.8/site-packages (from pyfinance) (1.20.3)\n",
      "Requirement already satisfied: pandas>=0.20 in /home/tuomas/miniconda3/envs/Jupyter_env/lib/python3.8/site-packages (from pyfinance) (1.2.2)\n",
      "Collecting beautifulsoup4\n",
      "  Downloading beautifulsoup4-4.10.0-py3-none-any.whl (97 kB)\n",
      "\u001b[K     |████████████████████████████████| 97 kB 19.7 MB/s  eta 0:00:01\n",
      "\u001b[?25hRequirement already satisfied: scipy in /home/tuomas/miniconda3/envs/Jupyter_env/lib/python3.8/site-packages (from pyfinance) (1.6.3)\n",
      "Collecting statsmodels\n",
      "  Downloading statsmodels-0.13.1-cp38-cp38-manylinux_2_17_x86_64.manylinux2014_x86_64.whl (9.9 MB)\n",
      "\u001b[K     |████████████████████████████████| 9.9 MB 98.9 MB/s eta 0:00:01\n",
      "\u001b[?25hRequirement already satisfied: pytz>=2017.3 in /home/tuomas/miniconda3/envs/Jupyter_env/lib/python3.8/site-packages (from pandas>=0.20->pyfinance) (2021.1)\n",
      "Requirement already satisfied: python-dateutil>=2.7.3 in /home/tuomas/miniconda3/envs/Jupyter_env/lib/python3.8/site-packages (from pandas>=0.20->pyfinance) (2.8.1)\n",
      "Requirement already satisfied: six>=1.5 in /home/tuomas/miniconda3/envs/Jupyter_env/lib/python3.8/site-packages (from python-dateutil>=2.7.3->pandas>=0.20->pyfinance) (1.15.0)\n",
      "Collecting soupsieve>1.2\n",
      "  Downloading soupsieve-2.3.1-py3-none-any.whl (37 kB)\n",
      "Requirement already satisfied: cycler>=0.10 in /home/tuomas/miniconda3/envs/Jupyter_env/lib/python3.8/site-packages (from matplotlib->pyfinance) (0.10.0)\n",
      "Requirement already satisfied: kiwisolver>=1.0.1 in /home/tuomas/miniconda3/envs/Jupyter_env/lib/python3.8/site-packages (from matplotlib->pyfinance) (1.3.1)\n",
      "Requirement already satisfied: pillow>=6.2.0 in /home/tuomas/miniconda3/envs/Jupyter_env/lib/python3.8/site-packages (from matplotlib->pyfinance) (8.1.0)\n",
      "Requirement already satisfied: pyparsing!=2.0.4,!=2.1.2,!=2.1.6,>=2.0.3 in /home/tuomas/miniconda3/envs/Jupyter_env/lib/python3.8/site-packages (from matplotlib->pyfinance) (2.4.7)\n",
      "Requirement already satisfied: lxml in /home/tuomas/miniconda3/envs/Jupyter_env/lib/python3.8/site-packages (from pandas-datareader->pyfinance) (4.6.3)\n",
      "Requirement already satisfied: urllib3<1.27,>=1.21.1 in /home/tuomas/miniconda3/envs/Jupyter_env/lib/python3.8/site-packages (from requests->pyfinance) (1.26.4)\n",
      "Requirement already satisfied: idna<3,>=2.5 in /home/tuomas/miniconda3/envs/Jupyter_env/lib/python3.8/site-packages (from requests->pyfinance) (2.10)\n",
      "Requirement already satisfied: chardet<5,>=3.0.2 in /home/tuomas/miniconda3/envs/Jupyter_env/lib/python3.8/site-packages (from requests->pyfinance) (4.0.0)\n",
      "Requirement already satisfied: certifi>=2017.4.17 in /home/tuomas/miniconda3/envs/Jupyter_env/lib/python3.8/site-packages (from requests->pyfinance) (2021.5.30)\n",
      "Requirement already satisfied: joblib>=0.11 in /home/tuomas/miniconda3/envs/Jupyter_env/lib/python3.8/site-packages (from scikit-learn->pyfinance) (1.0.1)\n",
      "Collecting threadpoolctl>=2.0.0\n",
      "  Downloading threadpoolctl-3.0.0-py3-none-any.whl (14 kB)\n",
      "Collecting patsy>=0.5.2\n",
      "  Downloading patsy-0.5.2-py2.py3-none-any.whl (233 kB)\n",
      "\u001b[K     |████████████████████████████████| 233 kB 87.8 MB/s eta 0:00:01\n",
      "\u001b[?25hInstalling collected packages: threadpoolctl, soupsieve, patsy, xmltodict, xlrd, statsmodels, seaborn, scikit-learn, pandas-datareader, beautifulsoup4, pyfinance\n",
      "Successfully installed beautifulsoup4-4.10.0 pandas-datareader-0.10.0 patsy-0.5.2 pyfinance-1.3.0 scikit-learn-1.0.2 seaborn-0.11.2 soupsieve-2.3.1 statsmodels-0.13.1 threadpoolctl-3.0.0 xlrd-2.0.1 xmltodict-0.12.0\n",
      "Collecting datar\n",
      "\u001b[33m  WARNING: Retrying (Retry(total=4, connect=None, read=None, redirect=None, status=None)) after connection broken by 'ReadTimeoutError(\"HTTPSConnectionPool(host='files.pythonhosted.org', port=443): Read timed out. (read timeout=15)\")': /packages/71/7b/b0f3522695c8307df78999ba5bba03be79742b16968b848a6c518222d7ea/datar-0.5.5-py3-none-any.whl\u001b[0m\n",
      "\u001b[33m  WARNING: Retrying (Retry(total=3, connect=None, read=None, redirect=None, status=None)) after connection broken by 'ReadTimeoutError(\"HTTPSConnectionPool(host='files.pythonhosted.org', port=443): Read timed out. (read timeout=15)\")': /packages/71/7b/b0f3522695c8307df78999ba5bba03be79742b16968b848a6c518222d7ea/datar-0.5.5-py3-none-any.whl\u001b[0m\n",
      "  Downloading datar-0.5.5-py3-none-any.whl (10.3 MB)\n",
      "\u001b[K     |████████████████████████████████| 10.3 MB 16.5 MB/s eta 0:00:01\n",
      "\u001b[?25hCollecting pipda<0.5.0,>=0.4.5\n",
      "  Downloading pipda-0.4.5-py3-none-any.whl (24 kB)\n",
      "Collecting diot<0.2.0,>=0.1.1\n",
      "  Downloading diot-0.1.5-py3-none-any.whl (11 kB)\n",
      "Collecting python-slugify<6.0.0,>=5.0.2\n",
      "  Downloading python_slugify-5.0.2-py2.py3-none-any.whl (6.7 kB)\n",
      "Requirement already satisfied: pandas<2.0,>=1.2 in /home/tuomas/miniconda3/envs/Jupyter_env/lib/python3.8/site-packages (from datar) (1.2.2)\n",
      "Requirement already satisfied: scipy<2.0,>=1.6 in /home/tuomas/miniconda3/envs/Jupyter_env/lib/python3.8/site-packages (from datar) (1.6.3)\n",
      "Requirement already satisfied: wcwidth<0.3,>=0.2 in /home/tuomas/miniconda3/envs/Jupyter_env/lib/python3.8/site-packages (from datar) (0.2.5)\n",
      "Collecting inflection<1.0.0\n",
      "  Downloading inflection-0.5.1-py2.py3-none-any.whl (9.5 kB)\n",
      "Requirement already satisfied: numpy>=1.16.5 in /home/tuomas/miniconda3/envs/Jupyter_env/lib/python3.8/site-packages (from pandas<2.0,>=1.2->datar) (1.20.3)\n",
      "Requirement already satisfied: python-dateutil>=2.7.3 in /home/tuomas/miniconda3/envs/Jupyter_env/lib/python3.8/site-packages (from pandas<2.0,>=1.2->datar) (2.8.1)\n",
      "Requirement already satisfied: pytz>=2017.3 in /home/tuomas/miniconda3/envs/Jupyter_env/lib/python3.8/site-packages (from pandas<2.0,>=1.2->datar) (2021.1)\n",
      "Collecting executing\n",
      "  Downloading executing-0.8.2-py2.py3-none-any.whl (16 kB)\n",
      "Collecting pure_eval<1.0.0\n",
      "  Downloading pure_eval-0.2.1-py3-none-any.whl (11 kB)\n",
      "Collecting varname\n",
      "  Downloading varname-0.8.1-py3-none-any.whl (20 kB)\n",
      "Requirement already satisfied: six>=1.5 in /home/tuomas/miniconda3/envs/Jupyter_env/lib/python3.8/site-packages (from python-dateutil>=2.7.3->pandas<2.0,>=1.2->datar) (1.15.0)\n",
      "Collecting text-unidecode>=1.3\n",
      "  Downloading text_unidecode-1.3-py2.py3-none-any.whl (78 kB)\n",
      "\u001b[K     |████████████████████████████████| 78 kB 18.3 MB/s  eta 0:00:01\n",
      "\u001b[?25hCollecting asttokens<3.0.0,>=2.0.0\n",
      "  Downloading asttokens-2.0.5-py2.py3-none-any.whl (20 kB)\n",
      "Installing collected packages: pure-eval, inflection, executing, asttokens, varname, text-unidecode, diot, python-slugify, pipda, datar\n",
      "Successfully installed asttokens-2.0.5 datar-0.5.5 diot-0.1.5 executing-0.8.2 inflection-0.5.1 pipda-0.4.5 pure-eval-0.2.1 python-slugify-5.0.2 text-unidecode-1.3 varname-0.8.1\n",
      "Requirement already satisfied: pandas in /home/tuomas/miniconda3/envs/Jupyter_env/lib/python3.8/site-packages (1.2.2)\n",
      "Collecting pandas\n",
      "  Downloading pandas-1.3.5-cp38-cp38-manylinux_2_17_x86_64.manylinux2014_x86_64.whl (11.5 MB)\n",
      "\u001b[K     |████████████████████████████████| 11.5 MB 37.0 MB/s eta 0:00:01\n",
      "\u001b[?25hRequirement already satisfied: python-dateutil>=2.7.3 in /home/tuomas/miniconda3/envs/Jupyter_env/lib/python3.8/site-packages (from pandas) (2.8.1)\n",
      "Requirement already satisfied: numpy>=1.17.3 in /home/tuomas/miniconda3/envs/Jupyter_env/lib/python3.8/site-packages (from pandas) (1.20.3)\n",
      "Requirement already satisfied: pytz>=2017.3 in /home/tuomas/miniconda3/envs/Jupyter_env/lib/python3.8/site-packages (from pandas) (2021.1)\n",
      "Requirement already satisfied: six>=1.5 in /home/tuomas/miniconda3/envs/Jupyter_env/lib/python3.8/site-packages (from python-dateutil>=2.7.3->pandas) (1.15.0)\n",
      "Installing collected packages: pandas\n",
      "  Attempting uninstall: pandas\n",
      "    Found existing installation: pandas 1.2.2\n",
      "    Uninstalling pandas-1.2.2:\n",
      "      Successfully uninstalled pandas-1.2.2\n",
      "Successfully installed pandas-1.3.5\n",
      "Collecting plotnine\n",
      "  Downloading plotnine-0.8.0-py3-none-any.whl (4.7 MB)\n",
      "\u001b[K     |████████████████████████████████| 4.7 MB 52.5 MB/s eta 0:00:01\n",
      "\u001b[?25hCollecting mizani>=0.7.3\n",
      "  Downloading mizani-0.7.3-py3-none-any.whl (63 kB)\n",
      "\u001b[K     |████████████████████████████████| 63 kB 4.5 MB/s  eta 0:00:01\n",
      "\u001b[?25hCollecting descartes>=1.1.0\n",
      "  Downloading descartes-1.1.0-py3-none-any.whl (5.8 kB)\n",
      "Requirement already satisfied: statsmodels>=0.12.1 in /home/tuomas/miniconda3/envs/Jupyter_env/lib/python3.8/site-packages (from plotnine) (0.13.1)\n",
      "Requirement already satisfied: patsy>=0.5.1 in /home/tuomas/miniconda3/envs/Jupyter_env/lib/python3.8/site-packages (from plotnine) (0.5.2)\n",
      "Requirement already satisfied: numpy>=1.19.0 in /home/tuomas/miniconda3/envs/Jupyter_env/lib/python3.8/site-packages (from plotnine) (1.20.3)\n",
      "Requirement already satisfied: pandas>=1.1.0 in /home/tuomas/miniconda3/envs/Jupyter_env/lib/python3.8/site-packages (from plotnine) (1.3.5)\n",
      "Requirement already satisfied: matplotlib>=3.1.1 in /home/tuomas/miniconda3/envs/Jupyter_env/lib/python3.8/site-packages (from plotnine) (3.3.4)\n",
      "Requirement already satisfied: scipy>=1.5.0 in /home/tuomas/miniconda3/envs/Jupyter_env/lib/python3.8/site-packages (from plotnine) (1.6.3)\n",
      "Requirement already satisfied: cycler>=0.10 in /home/tuomas/miniconda3/envs/Jupyter_env/lib/python3.8/site-packages (from matplotlib>=3.1.1->plotnine) (0.10.0)\n",
      "Requirement already satisfied: kiwisolver>=1.0.1 in /home/tuomas/miniconda3/envs/Jupyter_env/lib/python3.8/site-packages (from matplotlib>=3.1.1->plotnine) (1.3.1)\n",
      "Requirement already satisfied: pyparsing!=2.0.4,!=2.1.2,!=2.1.6,>=2.0.3 in /home/tuomas/miniconda3/envs/Jupyter_env/lib/python3.8/site-packages (from matplotlib>=3.1.1->plotnine) (2.4.7)\n",
      "Requirement already satisfied: python-dateutil>=2.1 in /home/tuomas/miniconda3/envs/Jupyter_env/lib/python3.8/site-packages (from matplotlib>=3.1.1->plotnine) (2.8.1)\n",
      "Requirement already satisfied: pillow>=6.2.0 in /home/tuomas/miniconda3/envs/Jupyter_env/lib/python3.8/site-packages (from matplotlib>=3.1.1->plotnine) (8.1.0)\n",
      "Requirement already satisfied: six in /home/tuomas/miniconda3/envs/Jupyter_env/lib/python3.8/site-packages (from cycler>=0.10->matplotlib>=3.1.1->plotnine) (1.15.0)\n",
      "Collecting palettable\n",
      "  Downloading palettable-3.3.0-py2.py3-none-any.whl (111 kB)\n",
      "\u001b[K     |████████████████████████████████| 111 kB 85.5 MB/s eta 0:00:01\n",
      "\u001b[?25hRequirement already satisfied: pytz>=2017.3 in /home/tuomas/miniconda3/envs/Jupyter_env/lib/python3.8/site-packages (from pandas>=1.1.0->plotnine) (2021.1)\n",
      "Installing collected packages: palettable, mizani, descartes, plotnine\n",
      "Successfully installed descartes-1.1.0 mizani-0.7.3 palettable-3.3.0 plotnine-0.8.0\n",
      "Collecting numexpr\n",
      "  Downloading numexpr-2.8.1-cp38-cp38-manylinux_2_17_x86_64.manylinux2014_x86_64.whl (381 kB)\n",
      "\u001b[K     |████████████████████████████████| 381 kB 47.8 MB/s eta 0:00:01\n",
      "\u001b[?25hRequirement already satisfied: packaging in /home/tuomas/miniconda3/envs/Jupyter_env/lib/python3.8/site-packages (from numexpr) (20.9)\n",
      "Requirement already satisfied: numpy>=1.13.3 in /home/tuomas/miniconda3/envs/Jupyter_env/lib/python3.8/site-packages (from numexpr) (1.20.3)\n",
      "Requirement already satisfied: pyparsing>=2.0.2 in /home/tuomas/miniconda3/envs/Jupyter_env/lib/python3.8/site-packages (from packaging->numexpr) (2.4.7)\n",
      "Installing collected packages: numexpr\n",
      "Successfully installed numexpr-2.8.1\n"
     ]
    }
   ],
   "source": [
    "import sys\n",
    "!{sys.executable} -m pip install pyfinance\n",
    "!{sys.executable} -m pip install datar\n",
    "!{sys.executable} -m pip install pandas --upgrade\n",
    "!{sys.executable} -m pip install plotnine\n",
    "!{sys.executable} -m pip install numexpr"
   ]
  },
  {
   "cell_type": "code",
   "execution_count": 1,
   "metadata": {},
   "outputs": [
    {
     "name": "stderr",
     "output_type": "stream",
     "text": [
      "[2021-12-31 11:32:45][datar][WARNING] Builtin name \"filter\" has been overriden by datar.\n"
     ]
    }
   ],
   "source": [
    "import numpy as np\n",
    "import matplotlib\n",
    "import matplotlib.pyplot as plt\n",
    "from scipy.stats import norm, lognorm\n",
    "import pandas as pd\n",
    "from pyfinance.options import BSM\n",
    "from mpl_toolkits.mplot3d import Axes3D\n",
    "from datar import f\n",
    "from datar.dplyr import mutate, filter, if_else, pull, group_by, select"
   ]
  },
  {
   "cell_type": "code",
   "execution_count": 2,
   "metadata": {},
   "outputs": [
    {
     "name": "stdout",
     "output_type": "stream",
     "text": [
      "(90, 49)\n"
     ]
    }
   ],
   "source": [
    "full_data = pd.read_excel('isx2010C.xls', sheet_name = 'isx19112010C')\n",
    "print(full_data.shape)"
   ]
  },
  {
   "cell_type": "code",
   "execution_count": 3,
   "metadata": {},
   "outputs": [],
   "source": [
    "def transform_data(data):\n",
    "    # Rename the columns\n",
    "    column_len = len(data.columns.values)\n",
    "    renamed_data = data[:]\n",
    "    renamed_data.rename({\n",
    "        data.columns.values[0]: \"T\",\n",
    "        data.columns.values[column_len - 1]: 'date', \n",
    "        data.columns.values[column_len - 2]: 'r', \n",
    "        data.columns.values[column_len - 3]: 'S'\n",
    "    }, inplace=True, axis=\"columns\")\n",
    "    # Transform into row form and drop NA rows:\n",
    "    renamed_data = renamed_data.melt(id_vars=['T', 'date', 'r', 'S'], var_name=\"E\")\n",
    "    renamed_data = renamed_data.dropna()\n",
    "    renamed_data.rename({'value':'Cobs'}, axis='columns', inplace=True)\n",
    "    renamed_data['Cobs'] = renamed_data['Cobs'].replace(',','.', regex=True).astype(float)\n",
    "    renamed_data['E'] = renamed_data['E'].astype(float)\n",
    "    # Scale the time to maturity and risk-free rate. Convert to float\n",
    "    scaled_data = renamed_data >> mutate(r = f.r/100, T = f.T/252, S = f.S/1000, E = f.E/1000, Cobs = f.Cobs/1000)\n",
    "\n",
    "    # Calculate volatility and drop NA\n",
    "    volatile_data = scaled_data.apply(lambda row:  BSM(kind='call', S0=row['S'], K=row['E'], T= row['T'], r=row['r'], sigma=1.0).implied_vol(value = row['Cobs']), axis = 1)\n",
    "    scaled_data['volatility'] = volatile_data\n",
    "    scaled_data = scaled_data.dropna()\n",
    "\n",
    "    # Computing the Delta and vega values for each option at each point in time using the implied volatilities\n",
    "    deltas = scaled_data.apply(lambda row:  BSM(kind='call', S0=row['S'], K=row['E'], T= row['T'], r=row['r'], sigma=row['volatility']).delta(), axis=1)\n",
    "    vegas = scaled_data.apply(lambda row:  BSM(kind='call', S0=row['S'], K=row['E'], T= row['T'], r=row['r'], sigma=row['volatility']).vega(), axis=1)\n",
    "    scaled_data['delta'] = deltas\n",
    "    scaled_data['vega'] = vegas\n",
    "    scaled_data[\"timestamp\"] = scaled_data.apply(lambda row: pd.to_datetime(row[\"date\"], format=\"%d.%m.%Y\").timestamp(), axis=1)\n",
    "    \n",
    "    # Sort by the time to maturity\n",
    "    scaled_data = scaled_data.sort_values(by=[\"T\"], ascending=False)\n",
    "\n",
    "    # Again, dropping any NA rows\n",
    "    scaled_data = scaled_data.dropna()\n",
    "    return scaled_data\n"
   ]
  },
  {
   "cell_type": "code",
   "execution_count": 4,
   "metadata": {},
   "outputs": [
    {
     "name": "stderr",
     "output_type": "stream",
     "text": [
      "/home/tuomas/miniconda3/envs/Jupyter_env/lib/python3.8/site-packages/pyfinance/options.py:242: RuntimeWarning: divide by zero encountered in double_scalars\n",
      "  vol = vol + diff / opt.vega()\n",
      "/home/tuomas/miniconda3/envs/Jupyter_env/lib/python3.8/site-packages/pyfinance/options.py:149: RuntimeWarning: invalid value encountered in double_scalars\n",
      "  self.d1 = (\n",
      "/home/tuomas/miniconda3/envs/Jupyter_env/lib/python3.8/site-packages/pyfinance/options.py:151: RuntimeWarning: overflow encountered in double_scalars\n",
      "  + (self.r + 0.5 * self.sigma ** 2) * self.T\n",
      "/home/tuomas/miniconda3/envs/Jupyter_env/lib/python3.8/site-packages/pyfinance/options.py:242: RuntimeWarning: overflow encountered in double_scalars\n",
      "  vol = vol + diff / opt.vega()\n"
     ]
    }
   ],
   "source": [
    "parsed_data = transform_data(full_data)"
   ]
  },
  {
   "cell_type": "code",
   "execution_count": 5,
   "metadata": {},
   "outputs": [],
   "source": [
    "# Delta hedging code:\n",
    "def delta_hedge(total_data, day_index = 40, strike_price = 515/1000, day_delta = 2):\n",
    "    # Default arguments:\n",
    "    maturity = day_index/252\n",
    "    \n",
    "    # Get the data of the specified option for days until maturity:\n",
    "    parsed_data = total_data[(total_data['T'] <= maturity) & (total_data['E'] == strike_price)]\n",
    "    \n",
    "    # If no data found for the specified strike or maturity, return NaN:\n",
    "    if parsed_data.empty is True:\n",
    "        return [np.nan, np.nan]\n",
    "    \n",
    "    # Setup the appropriate variables:\n",
    "    errors, option_portfolios, replicating_portfolios, deltas = [], [], [], []\n",
    "    \n",
    "    # Form the first replicating and underlying option portfolios:\n",
    "    current_option = parsed_data.iloc[0]\n",
    "    current_delta = current_option['delta']\n",
    "    current_price = current_option['S']\n",
    "    current_replicating_port = current_delta * current_price\n",
    "    current_option_port = current_option['Cobs']\n",
    "    \n",
    "    # First day t = 0:\n",
    "    replicating_portfolios.append(current_replicating_port)\n",
    "    option_portfolios.append(current_option_port)\n",
    "    \n",
    "    # The days until hedging:\n",
    "    time_to_hedge = day_delta - 1\n",
    "    \n",
    "    i = 1\n",
    "    # Each day until maturity\n",
    "    for index, row in parsed_data.iloc[1:].iterrows():\n",
    "        \n",
    "        # Get the new option instance:\n",
    "        current_option = row\n",
    "        current_price = row['S']\n",
    "        \n",
    "        # Calculate the new replicating portfolio value:\n",
    "        current_replicating_port = current_price * current_delta\n",
    "        replicating_portfolios.append(current_replicating_port)\n",
    "\n",
    "        # Calculate change of replicating portfolio\n",
    "        replicating_value_change = (replicating_portfolios[i] - replicating_portfolios[i - 1])\n",
    "\n",
    "        # Calculate new option portfolio value:\n",
    "        current_option_port = current_option['Cobs']\n",
    "        option_portfolios.append(current_option_port)\n",
    "        option_value_change = (option_portfolios[i] - option_portfolios[i - 1])\n",
    "        a = (option_value_change - replicating_value_change)\n",
    "        errors.append(a)\n",
    "        \n",
    "        # Hedging:\n",
    "        if time_to_hedge == 0:\n",
    "            time_to_hedge = day_delta\n",
    "            # Rehedge by setting the delta to a new value\n",
    "            current_delta = current_option['delta']\n",
    "            \n",
    "            # Modify the previous replicating portfolio by taking the new delta into account:\n",
    "            replicating_portfolios[i] = current_price * current_delta\n",
    "        \n",
    "        deltas.append(current_delta)\n",
    "        time_to_hedge = time_to_hedge - 1\n",
    "        i = i + 1\n",
    "        \n",
    "    # Return mean and std of A^2\n",
    "    return (np.mean(np.square(errors)), np.nanstd(np.square(errors)))"
   ]
  },
  {
   "cell_type": "code",
   "execution_count": 6,
   "metadata": {},
   "outputs": [
    {
     "data": {
      "text/plain": [
       "(1.6269048179510107e-06, 2.7079718506065547e-06)"
      ]
     },
     "execution_count": 6,
     "metadata": {},
     "output_type": "execute_result"
    }
   ],
   "source": [
    "delta_hedge(parsed_data, 45, day_delta=14)"
   ]
  },
  {
   "cell_type": "markdown",
   "metadata": {},
   "source": [
    "## Multiple sheets"
   ]
  },
  {
   "cell_type": "code",
   "execution_count": 7,
   "metadata": {},
   "outputs": [],
   "source": [
    "# Get all of the sheets in different dataframes\n",
    "dataframes = []\n",
    "for i in range(12):\n",
    "    d = pd.read_excel('isx2010C.xls', sheet_name = i)\n",
    "    dataframes.append(transform_data(d))"
   ]
  },
  {
   "cell_type": "code",
   "execution_count": 8,
   "metadata": {},
   "outputs": [],
   "source": [
    "# finding common strike prices for all sheets\n",
    "common_strikes = set(dataframes[0]['E'].unique())\n",
    "for i in range(11):\n",
    "    s = set(dataframes[i + 1]['E'].unique())\n",
    "    common_strikes = common_strikes & s"
   ]
  },
  {
   "cell_type": "code",
   "execution_count": 9,
   "metadata": {},
   "outputs": [
    {
     "name": "stdout",
     "output_type": "stream",
     "text": [
      "True\n"
     ]
    }
   ],
   "source": [
    "# Try strike prices with 10 increments starting from 340, scaled by 1000\n",
    "possible_strikes = np.array([340 + i * 10 for i in range(21)]) / 1000\n",
    "print(np.all([possible_strikes[i] in common_strikes for i in range(possible_strikes.shape[0])]))"
   ]
  },
  {
   "cell_type": "code",
   "execution_count": 10,
   "metadata": {},
   "outputs": [],
   "source": [
    "strike_prices = possible_strikes\n",
    "freqs = [2, 4, 7, 10, 14, 18]\n",
    "starting_ttm = np.arange(20, 46, 2)"
   ]
  },
  {
   "cell_type": "code",
   "execution_count": 11,
   "metadata": {},
   "outputs": [
    {
     "name": "stderr",
     "output_type": "stream",
     "text": [
      "/home/tuomas/miniconda3/envs/Jupyter_env/lib/python3.8/site-packages/numpy/core/fromnumeric.py:3419: RuntimeWarning: Mean of empty slice.\n",
      "  return _methods._mean(a, axis=axis, dtype=dtype,\n",
      "/home/tuomas/miniconda3/envs/Jupyter_env/lib/python3.8/site-packages/numpy/core/_methods.py:188: RuntimeWarning: invalid value encountered in double_scalars\n",
      "  ret = ret.dtype.type(ret / rcount)\n",
      "/home/tuomas/miniconda3/envs/Jupyter_env/lib/python3.8/site-packages/numpy/lib/nanfunctions.py:1664: RuntimeWarning: Degrees of freedom <= 0 for slice.\n",
      "  var = nanvar(a, axis=axis, dtype=dtype, out=out, ddof=ddof,\n"
     ]
    }
   ],
   "source": [
    "# Now we hedge multiple different strikes and combine the results\n",
    "result_rows = []\n",
    "for start_index, start_ttm in enumerate(starting_ttm):\n",
    "    for data_index, dataframe in enumerate(dataframes):\n",
    "        parsed_dataframe = dataframe[dataframe[\"T\"] <= start_ttm / 252]\n",
    "        current_row = parsed_dataframe.iloc[0]\n",
    "        current_price = current_row['S']\n",
    "        atm_index = np.abs(np.array(strike_prices) - current_price).argmin()\n",
    "        for i, s in enumerate(strike_prices):\n",
    "            for time_index, t in enumerate(freqs):\n",
    "                # If the strike price is closest to the starting price, we consider is hedging with an ATM option, otherwise the option is considerer either ITM or OTM.\n",
    "                if i == atm_index:\n",
    "                    call_type = \"ATM\"\n",
    "                elif i < atm_index:\n",
    "                    call_type = \"ITM\"\n",
    "                else:\n",
    "                    call_type = \"OTM\"\n",
    "                hedge_result = delta_hedge(dataframe, start_ttm, strike_price = s, day_delta = t)\n",
    "                data_row = [s, t, start_ttm, data_index, call_type, hedge_result[0], hedge_result[1]]\n",
    "                result_rows.append(data_row)"
   ]
  },
  {
   "cell_type": "code",
   "execution_count": 12,
   "metadata": {},
   "outputs": [],
   "source": [
    "# Create a dataframe with the results:\n",
    "delta_hedge_results = pd.DataFrame(result_rows, columns = [\"E\", \"Frequency\", \"TTM\", \"Sheet\", \"Type\", \"Mean\", \"Std\"])"
   ]
  },
  {
   "cell_type": "code",
   "execution_count": 13,
   "metadata": {},
   "outputs": [
    {
     "data": {
      "text/html": [
       "<table border=\"1\" class=\"dataframe\">\n",
       "  <thead>\n",
       "    <tr style=\"text-align: right;\">\n",
       "      <th></th>\n",
       "      <th>E</th>\n",
       "      <th>Frequency</th>\n",
       "      <th>TTM</th>\n",
       "      <th>Sheet</th>\n",
       "      <th>Type</th>\n",
       "      <th>Mean</th>\n",
       "      <th>Std</th>\n",
       "    </tr>\n",
       "  </thead>\n",
       "  <tbody>\n",
       "    <tr>\n",
       "      <th style=\"font-style: italic;\" ></th>\n",
       "      <td style=\"font-style: italic;\" >&lt;float64&gt;</td>\n",
       "      <td style=\"font-style: italic;\" >&lt;int64&gt;</td>\n",
       "      <td style=\"font-style: italic;\" >&lt;int64&gt;</td>\n",
       "      <td style=\"font-style: italic;\" >&lt;int64&gt;</td>\n",
       "      <td style=\"font-style: italic;\" >&lt;object&gt;</td>\n",
       "      <td style=\"font-style: italic;\" >&lt;float64&gt;</td>\n",
       "      <td style=\"font-style: italic;\" >&lt;float64&gt;</td>\n",
       "    </tr>\n",
       "    <tr>\n",
       "      <th>0</th>\n",
       "      <td>0.34</td>\n",
       "      <td>2</td>\n",
       "      <td>20</td>\n",
       "      <td>0</td>\n",
       "      <td>ITM</td>\n",
       "      <td>1.823247e-07</td>\n",
       "      <td>3.122009e-07</td>\n",
       "    </tr>\n",
       "    <tr>\n",
       "      <th>1</th>\n",
       "      <td>0.34</td>\n",
       "      <td>4</td>\n",
       "      <td>20</td>\n",
       "      <td>0</td>\n",
       "      <td>ITM</td>\n",
       "      <td>1.874259e-07</td>\n",
       "      <td>3.148240e-07</td>\n",
       "    </tr>\n",
       "    <tr>\n",
       "      <th>2</th>\n",
       "      <td>0.34</td>\n",
       "      <td>7</td>\n",
       "      <td>20</td>\n",
       "      <td>0</td>\n",
       "      <td>ITM</td>\n",
       "      <td>1.797122e-07</td>\n",
       "      <td>3.028155e-07</td>\n",
       "    </tr>\n",
       "    <tr>\n",
       "      <th>3</th>\n",
       "      <td>0.34</td>\n",
       "      <td>10</td>\n",
       "      <td>20</td>\n",
       "      <td>0</td>\n",
       "      <td>ITM</td>\n",
       "      <td>1.925762e-07</td>\n",
       "      <td>3.259995e-07</td>\n",
       "    </tr>\n",
       "    <tr>\n",
       "      <th>...</th>\n",
       "      <td>...</td>\n",
       "      <td>...</td>\n",
       "      <td>...</td>\n",
       "      <td>...</td>\n",
       "      <td>...</td>\n",
       "      <td>...</td>\n",
       "      <td>...</td>\n",
       "    </tr>\n",
       "    <tr>\n",
       "      <th>4</th>\n",
       "      <td>0.34</td>\n",
       "      <td>14</td>\n",
       "      <td>20</td>\n",
       "      <td>0</td>\n",
       "      <td>ITM</td>\n",
       "      <td>1.909773e-07</td>\n",
       "      <td>3.260175e-07</td>\n",
       "    </tr>\n",
       "    <tr>\n",
       "      <th>19651</th>\n",
       "      <td>0.54</td>\n",
       "      <td>4</td>\n",
       "      <td>44</td>\n",
       "      <td>11</td>\n",
       "      <td>OTM</td>\n",
       "      <td>1.084023e-06</td>\n",
       "      <td>1.667127e-06</td>\n",
       "    </tr>\n",
       "    <tr>\n",
       "      <th>19652</th>\n",
       "      <td>0.54</td>\n",
       "      <td>7</td>\n",
       "      <td>44</td>\n",
       "      <td>11</td>\n",
       "      <td>OTM</td>\n",
       "      <td>9.479661e-07</td>\n",
       "      <td>1.577130e-06</td>\n",
       "    </tr>\n",
       "    <tr>\n",
       "      <th>19653</th>\n",
       "      <td>0.54</td>\n",
       "      <td>10</td>\n",
       "      <td>44</td>\n",
       "      <td>11</td>\n",
       "      <td>OTM</td>\n",
       "      <td>9.521037e-07</td>\n",
       "      <td>1.465555e-06</td>\n",
       "    </tr>\n",
       "    <tr>\n",
       "      <th>19654</th>\n",
       "      <td>0.54</td>\n",
       "      <td>14</td>\n",
       "      <td>44</td>\n",
       "      <td>11</td>\n",
       "      <td>OTM</td>\n",
       "      <td>1.374283e-06</td>\n",
       "      <td>1.869258e-06</td>\n",
       "    </tr>\n",
       "    <tr>\n",
       "      <th>19655</th>\n",
       "      <td>0.54</td>\n",
       "      <td>18</td>\n",
       "      <td>44</td>\n",
       "      <td>11</td>\n",
       "      <td>OTM</td>\n",
       "      <td>9.396319e-07</td>\n",
       "      <td>1.031522e-06</td>\n",
       "    </tr>\n",
       "  </tbody>\n",
       "</table>\n",
       "<p>19656 rows × 7 columns</p>"
      ],
      "text/plain": [
       "              E  Frequency     TTM   Sheet     Type          Mean  \\\n",
       "      <float64>    <int64> <int64> <int64> <object>     <float64>   \n",
       "0          0.34          2      20       0      ITM  1.823247e-07   \n",
       "1          0.34          4      20       0      ITM  1.874259e-07   \n",
       "2          0.34          7      20       0      ITM  1.797122e-07   \n",
       "3          0.34         10      20       0      ITM  1.925762e-07   \n",
       "...         ...        ...     ...     ...      ...           ...   \n",
       "4          0.34         14      20       0      ITM  1.909773e-07   \n",
       "19651      0.54          4      44      11      OTM  1.084023e-06   \n",
       "19652      0.54          7      44      11      OTM  9.479661e-07   \n",
       "19653      0.54         10      44      11      OTM  9.521037e-07   \n",
       "19654      0.54         14      44      11      OTM  1.374283e-06   \n",
       "19655      0.54         18      44      11      OTM  9.396319e-07   \n",
       "\n",
       "                Std  \n",
       "          <float64>  \n",
       "0      3.122009e-07  \n",
       "1      3.148240e-07  \n",
       "2      3.028155e-07  \n",
       "3      3.259995e-07  \n",
       "...             ...  \n",
       "4      3.260175e-07  \n",
       "19651  1.667127e-06  \n",
       "19652  1.577130e-06  \n",
       "19653  1.465555e-06  \n",
       "19654  1.869258e-06  \n",
       "19655  1.031522e-06  \n",
       "\n",
       "[19656 rows x 7 columns]"
      ]
     },
     "execution_count": 13,
     "metadata": {},
     "output_type": "execute_result"
    }
   ],
   "source": [
    "delta_hedge_results"
   ]
  },
  {
   "cell_type": "markdown",
   "metadata": {},
   "source": [
    "## Delta-Vega hedging"
   ]
  },
  {
   "cell_type": "code",
   "execution_count": 14,
   "metadata": {},
   "outputs": [
    {
     "name": "stderr",
     "output_type": "stream",
     "text": [
      "/home/tuomas/miniconda3/envs/Jupyter_env/lib/python3.8/site-packages/pyfinance/options.py:151: RuntimeWarning: overflow encountered in double_scalars\n",
      "  + (self.r + 0.5 * self.sigma ** 2) * self.T\n",
      "/home/tuomas/miniconda3/envs/Jupyter_env/lib/python3.8/site-packages/pyfinance/options.py:242: RuntimeWarning: divide by zero encountered in double_scalars\n",
      "  vol = vol + diff / opt.vega()\n",
      "/home/tuomas/miniconda3/envs/Jupyter_env/lib/python3.8/site-packages/pyfinance/options.py:149: RuntimeWarning: invalid value encountered in double_scalars\n",
      "  self.d1 = (\n",
      "/home/tuomas/miniconda3/envs/Jupyter_env/lib/python3.8/site-packages/pyfinance/options.py:242: RuntimeWarning: overflow encountered in double_scalars\n",
      "  vol = vol + diff / opt.vega()\n"
     ]
    }
   ],
   "source": [
    "# Load 2 different maturity datasets\n",
    "original_data = pd.read_excel(\"isx2010C.xls\", sheet_name = 0)\n",
    "original_data = transform_data(original_data)\n",
    "replicate_data = pd.read_excel(\"isx2010C.xls\", sheet_name = 1)\n",
    "replicate_data = transform_data(replicate_data)"
   ]
  },
  {
   "cell_type": "code",
   "execution_count": 15,
   "metadata": {},
   "outputs": [],
   "source": [
    "# Function for DV -hedging.\n",
    "# Arguments: the dataframes of two different maturities and the common strike price.\n",
    "def delta_vega_hedging(original_data, replicating_data, ttm, strike_price = 515/1000, day_delta = 2):\n",
    "    # Calculate the first and last dates of the original dataset and ttm.\n",
    "    last_date_original = original_data.iloc[original_data.shape[0] - 1]\n",
    "    first_date_original = original_data[original_data[\"T\"] <= ttm].iloc[0]\n",
    "    \n",
    "    # Restrict the replicating portfolio data to this range:\n",
    "    replicating_parsed = replicating_data[(replicating_data[\"E\"] == strike_price) & (replicating_data['timestamp'] >= first_date_original['timestamp']) & (replicating_data['timestamp'] <= last_date_original['timestamp'])]\n",
    "    original_parsed = original_data[(original_data[\"T\"] <= ttm) & (original_data[\"E\"] == strike_price)]\n",
    "    \n",
    "    # The original call portfolio, replicating call portfolio and underlying stock portfolio:\n",
    "    option_portfolios, replicating_portfolios, underlying_portfolios = [], [], []\n",
    "    \n",
    "    error_return = [np.nan, np.nan]\n",
    "    if replicating_parsed.shape[0] < original_parsed.shape[0]:\n",
    "        return error_return\n",
    "    if original_parsed.empty:\n",
    "        return error_return\n",
    "    \n",
    "    # The current option instances\n",
    "    current_original = original_parsed.iloc[0]\n",
    "    current_replicating = replicating_parsed.iloc[0]\n",
    "    current_price = current_original[\"S\"]\n",
    "    \n",
    "    # If not same pricepoint, error!\n",
    "    if current_price != current_replicating[\"S\"]:\n",
    "        return error_return\n",
    "    assert current_price == current_replicating[\"S\"]\n",
    "    \n",
    "    # Calculate the first greeks\n",
    "    current_option_delta = current_original[\"delta\"]\n",
    "    current_replicating_delta = current_replicating[\"delta\"]\n",
    "    current_option_vega = current_original[\"vega\"]\n",
    "    current_replicating_vega = current_replicating[\"vega\"]\n",
    "    \n",
    "    # Store all computed greeks:\n",
    "    option_deltas, replicating_deltas = [current_option_delta], [current_replicating_delta]\n",
    "    option_vegas, replicating_vegas = [current_option_vega], [current_replicating_vega]\n",
    "    \n",
    "    # Compute ratios alpha and eta:\n",
    "    current_eta = current_option_vega / current_replicating_vega\n",
    "    current_alpha = current_option_delta - current_eta * current_replicating_delta\n",
    "    \n",
    "    # Compute the first portfolios:\n",
    "    current_option_value = current_original[\"Cobs\"]\n",
    "    current_underlying_value = current_alpha * current_price\n",
    "    current_replicating_value = current_eta * current_replicating[\"Cobs\"]\n",
    "    \n",
    "    # Store portfolios:\n",
    "    option_values = [current_option_value]\n",
    "    underlying_values = [current_underlying_value]\n",
    "    replicating_values = [current_replicating_value]\n",
    "    errors = []\n",
    "    time_to_hedge = day_delta - 1\n",
    "    i = 1\n",
    "    \n",
    "    # Continue until end of original option data:\n",
    "    for index, row in original_parsed[1:].iterrows():\n",
    "        # Get the current instance\n",
    "        current_original = row\n",
    "        current_price = current_original[\"S\"]\n",
    "        # Get the same from other sheet:\n",
    "        current_replicating = replicating_parsed.iloc[i]\n",
    "        \n",
    "        # Calculate the new values and store new portfolios:\n",
    "        current_option_value = current_original[\"Cobs\"]\n",
    "        option_values.append(current_option_value)\n",
    "        current_underlying_value = current_alpha * current_price\n",
    "        underlying_values.append(current_underlying_value)\n",
    "        current_replicating_value = current_eta * current_replicating[\"Cobs\"]\n",
    "        replicating_values.append(current_replicating_value)\n",
    "        \n",
    "        # Calculate change:\n",
    "        option_change = option_values[i] - option_values[i - 1]\n",
    "        underlying_change = underlying_values[i] - underlying_values[i - 1]\n",
    "        replicating_change = replicating_values[i] - replicating_values[i - 1]\n",
    "        \n",
    "        # Total change:\n",
    "        a = option_change - (underlying_change + replicating_change)\n",
    "        \n",
    "        # Hedging:\n",
    "        if time_to_hedge == 0:\n",
    "            time_to_hedge = day_delta\n",
    "            \n",
    "            # Calculate the greeks delta and vega:\n",
    "            current_option_delta = current_original[\"delta\"]\n",
    "            current_replicating_delta = current_replicating[\"delta\"]\n",
    "            current_option_vega = current_original[\"vega\"]\n",
    "            current_replicating_vega = current_replicating[\"vega\"]\n",
    "            \n",
    "            # Compute ratios alpha and eta:\n",
    "            current_eta = current_option_vega / current_replicating_vega\n",
    "            current_alpha = current_option_delta - current_eta * current_replicating_delta\n",
    "            \n",
    "            # Compute the portfolios:\n",
    "            current_underlying_value = current_alpha * current_price\n",
    "            current_replicating_value = current_eta * current_replicating[\"Cobs\"]\n",
    "\n",
    "            # Modify the previous portfolios by taking the new delta into account:\n",
    "            underlying_values[i] = current_underlying_value\n",
    "            replicating_values[i] = current_replicating_value\n",
    "        \n",
    "        # Store the greeks used:\n",
    "        option_deltas.append(current_option_delta)\n",
    "        replicating_deltas.append(current_replicating_delta)\n",
    "        option_vegas.append(current_option_vega)\n",
    "        replicating_vegas.append(current_replicating_vega)\n",
    "        \n",
    "        time_to_hedge = time_to_hedge - 1\n",
    "        i = i + 1\n",
    "        errors.append(a)\n",
    "    return (np.nanmean(np.square(errors)), np.nanstd(np.square(errors)))"
   ]
  },
  {
   "cell_type": "code",
   "execution_count": 16,
   "metadata": {},
   "outputs": [],
   "source": [
    "good_strike = 540/1000\n",
    "day_d = 4\n",
    "ttm = 40"
   ]
  },
  {
   "cell_type": "code",
   "execution_count": 17,
   "metadata": {},
   "outputs": [
    {
     "data": {
      "text/plain": [
       "(6.657262152396561e-07, 1.0173516446335056e-06)"
      ]
     },
     "execution_count": 17,
     "metadata": {},
     "output_type": "execute_result"
    }
   ],
   "source": [
    "delta_vega_hedging(original_data, replicate_data, ttm=ttm/252, strike_price = good_strike, day_delta = day_d)"
   ]
  },
  {
   "cell_type": "code",
   "execution_count": 18,
   "metadata": {},
   "outputs": [
    {
     "data": {
      "text/plain": [
       "(2.7652232240976946e-08, 2.6306835773881e-08)"
      ]
     },
     "execution_count": 18,
     "metadata": {},
     "output_type": "execute_result"
    }
   ],
   "source": [
    "delta_hedge(original_data, ttm, day_delta=day_d, strike_price=good_strike)"
   ]
  },
  {
   "cell_type": "code",
   "execution_count": 19,
   "metadata": {},
   "outputs": [
    {
     "name": "stdout",
     "output_type": "stream",
     "text": [
      "Start TTM: 20, 0 / 13\n"
     ]
    },
    {
     "name": "stderr",
     "output_type": "stream",
     "text": [
      "<ipython-input-15-44cabac9b421>:113: RuntimeWarning: Mean of empty slice\n",
      "  return (np.nanmean(np.square(errors)), np.nanstd(np.square(errors)))\n",
      "/home/tuomas/miniconda3/envs/Jupyter_env/lib/python3.8/site-packages/numpy/lib/nanfunctions.py:1664: RuntimeWarning: Degrees of freedom <= 0 for slice.\n",
      "  var = nanvar(a, axis=axis, dtype=dtype, out=out, ddof=ddof,\n"
     ]
    },
    {
     "name": "stdout",
     "output_type": "stream",
     "text": [
      "Start TTM: 22, 1 / 13\n",
      "Start TTM: 24, 2 / 13\n",
      "Start TTM: 26, 3 / 13\n",
      "Start TTM: 28, 4 / 13\n",
      "Start TTM: 30, 5 / 13\n",
      "Start TTM: 32, 6 / 13\n",
      "Start TTM: 34, 7 / 13\n",
      "Start TTM: 36, 8 / 13\n",
      "Start TTM: 38, 9 / 13\n",
      "Start TTM: 40, 10 / 13\n",
      "Start TTM: 42, 11 / 13\n",
      "Start TTM: 44, 12 / 13\n"
     ]
    }
   ],
   "source": [
    "# Combining different sheets, frequencies, times to maturity and strike prices:\n",
    "dv_result_rows = []\n",
    "errors_delta_vega = np.zeros(shape=(len(starting_ttm), len(dataframes) - 1, len(strike_prices), len(freqs), 2))\n",
    "for start_index, start_ttm in enumerate(starting_ttm):\n",
    "    print(f\"Start TTM: {start_ttm}, {start_index} / {len(starting_ttm)}\")\n",
    "    for sheet_index in range(len(dataframes) - 1):\n",
    "        original_sheet = dataframes[sheet_index]\n",
    "        replicating_sheet = dataframes[sheet_index + 1]\n",
    "        # Find closest to the spot price at T = 0:\n",
    "        spot_price = original_sheet[(original_sheet[\"T\"] == start_ttm / 252)][\"S\"].min()\n",
    "        atm_index = np.abs(np.array(strike_prices) - spot_price).argmin()\n",
    "        for price_index, price in enumerate(strike_prices):\n",
    "            \n",
    "            # Determine whether the call is ATM, ITM or OTM:\n",
    "            if price_index == atm_index:\n",
    "                call_type = \"ATM\"\n",
    "            elif price_index < atm_index:\n",
    "                call_type = \"ITM\"\n",
    "            else:\n",
    "                call_type = \"OTM\"\n",
    "            for time_index, time in enumerate(freqs):\n",
    "                mean, std = delta_vega_hedging(original_sheet, replicating_sheet, ttm = start_ttm/252, strike_price = price, day_delta = time)\n",
    "                data_row = [price, time, start_ttm, sheet_index, call_type, mean, std]\n",
    "                dv_result_rows.append(data_row)\n",
    "    "
   ]
  },
  {
   "cell_type": "code",
   "execution_count": 20,
   "metadata": {},
   "outputs": [],
   "source": [
    "delta_vega_hedge_results = pd.DataFrame(dv_result_rows, columns = [\"E\", \"Frequency\", \"TTM\", \"Sheet\", \"Type\", \"Mean\", \"Std\"])"
   ]
  },
  {
   "cell_type": "markdown",
   "metadata": {},
   "source": [
    "# Results & Analysis"
   ]
  },
  {
   "cell_type": "code",
   "execution_count": 21,
   "metadata": {},
   "outputs": [],
   "source": [
    "# Calculate the average mean and std across all sheets\n",
    "delta_data = delta_hedge_results.groupby([\"E\", \"Frequency\", \"TTM\", \"Type\"], as_index = False).agg({\"Mean\": 'mean', 'Std': 'mean'})\n",
    "dv_data = delta_vega_hedge_results.groupby([\"E\", \"Frequency\", \"TTM\", \"Type\"], as_index = False).agg({\"Mean\": 'mean', 'Std': 'mean'})"
   ]
  },
  {
   "cell_type": "code",
   "execution_count": 22,
   "metadata": {},
   "outputs": [],
   "source": [
    "dv_data = dv_data.dropna()"
   ]
  },
  {
   "cell_type": "code",
   "execution_count": 23,
   "metadata": {},
   "outputs": [],
   "source": [
    "# Get the results of ITM and OTM options with specific offset from spot price:\n",
    "offsets = [-50, -40, -30, -20, -10, 0, 10, 20, 30, 40, 50]\n",
    "dv_analysis = []\n",
    "delta_analysis = []\n",
    "for index, row in dv_data[dv_data[\"Type\"] == \"ATM\"].iterrows():\n",
    "    for offset in offsets:\n",
    "        # Obtain the correct call\n",
    "        call_type = \"ITM\" if offset < 0 else \"OTM\"\n",
    "        if offset == 0:\n",
    "            call_type = 'ATM'\n",
    "        dv_call = dv_data[\n",
    "            (dv_data[\"Type\"] == call_type) & \n",
    "            (dv_data[\"E\"] == (row[\"E\"] + offset / 1000)) & \n",
    "            (dv_data[\"TTM\"] == row[\"TTM\"]) & \n",
    "            (dv_data[\"Frequency\"] == row[\"Frequency\"])\n",
    "        ]\n",
    "        delta_call = delta_data[\n",
    "            (delta_data[\"Type\"] == call_type) & \n",
    "            (delta_data[\"E\"] == (row[\"E\"] + offset / 1000)) & \n",
    "            (delta_data[\"TTM\"] == row[\"TTM\"]) & \n",
    "            (delta_data[\"Frequency\"] == row[\"Frequency\"])\n",
    "        ]\n",
    "        if not dv_call.empty and not delta_call.empty:\n",
    "            delta_analysis.append([row[\"E\"], offset] + delta_call.values.flatten().tolist())\n",
    "            dv_analysis.append([row[\"E\"], offset] + dv_call.values.flatten().tolist())"
   ]
  },
  {
   "cell_type": "code",
   "execution_count": 24,
   "metadata": {},
   "outputs": [],
   "source": [
    "# Store the different hedging results \n",
    "delta_analysis_df = pd.DataFrame(delta_analysis, columns = [\"ATM Strike\", \"Offset\", \"E\", \"Frequency\", \"TTM\", \"Type\", \"Mean\", \"Std\"])\n",
    "dv_analysis_df = pd.DataFrame(dv_analysis, columns = [\"ATM Strike\", \"Offset\", \"E\", \"Frequency\", \"TTM\", \"Type\", \"Mean\", \"Std\"])"
   ]
  },
  {
   "cell_type": "markdown",
   "metadata": {},
   "source": [
    "## Strike price analysis"
   ]
  },
  {
   "cell_type": "code",
   "execution_count": 52,
   "metadata": {},
   "outputs": [],
   "source": [
    "correct_slice = delta_analysis_df[(delta_analysis_df[\"TTM\"] == 40) & (delta_analysis_df[\"Frequency\"] == 2)]\n",
    "delta_slice_atm = correct_slice[correct_slice[\"Offset\"] == 0][\"Mean\"]\n",
    "delta_slice_itm = correct_slice[correct_slice[\"Offset\"] == -10][\"Mean\"]\n",
    "delta_slice_otm = correct_slice[correct_slice[\"Offset\"] == 10][\"Mean\"]"
   ]
  },
  {
   "cell_type": "code",
   "execution_count": 53,
   "metadata": {},
   "outputs": [
    {
     "data": {
      "image/png": "[encoded data removed]",
      "text/plain": [
       "<Figure size 432x288 with 1 Axes>"
      ]
     },
     "metadata": {
      "needs_background": "light"
     },
     "output_type": "display_data"
    }
   ],
   "source": [
    "strike_price_labels = [\"ITM\", \"ATM\", \"OTM\"]\n",
    "plt.plot()\n",
    "plt.boxplot([delta_slice_itm, delta_slice_atm, delta_slice_otm], labels = strike_price_labels, showfliers = False);\n",
    "plt.ylabel(\"Mean error\")\n",
    "plt.savefig(\"strike_price_delta_slice.pdf\")"
   ]
  },
  {
   "cell_type": "code",
   "execution_count": 54,
   "metadata": {},
   "outputs": [],
   "source": [
    "delta_atm = delta_analysis_df[delta_analysis_df[\"Offset\"] == 0][\"Mean\"]\n",
    "delta_itm = delta_analysis_df[delta_analysis_df[\"Offset\"] == -10][\"Mean\"]\n",
    "delta_otm = delta_analysis_df[delta_analysis_df[\"Offset\"] == 10][\"Mean\"]"
   ]
  },
  {
   "cell_type": "code",
   "execution_count": 55,
   "metadata": {},
   "outputs": [
    {
     "data": {
      "image/png": "[encoded data removed]",
      "text/plain": [
       "<Figure size 432x288 with 1 Axes>"
      ]
     },
     "metadata": {
      "needs_background": "light"
     },
     "output_type": "display_data"
    }
   ],
   "source": [
    "plt.plot()\n",
    "plt.boxplot([delta_itm, delta_atm, delta_otm], labels = strike_price_labels, showfliers = False);\n",
    "plt.ylabel(\"Mean error\")\n",
    "plt.savefig(\"strike_price_delta_general.pdf\")"
   ]
  },
  {
   "cell_type": "code",
   "execution_count": 29,
   "metadata": {},
   "outputs": [],
   "source": [
    "correct_dv_slice = dv_analysis_df[(dv_analysis_df[\"Frequency\"] == 2) & (dv_analysis_df[\"TTM\"] == 40)]\n",
    "itm_dv_specific = correct_dv_slice[correct_dv_slice[\"Offset\"] == -10][\"Mean\"]\n",
    "atm_dv_specific = correct_dv_slice[correct_dv_slice[\"Offset\"] == 0][\"Mean\"]\n",
    "otm_dv_specific = correct_dv_slice[correct_dv_slice[\"Offset\"] == 10][\"Mean\"]"
   ]
  },
  {
   "cell_type": "code",
   "execution_count": 59,
   "metadata": {},
   "outputs": [
    {
     "data": {
      "image/png": "[encoded data removed]",
      "text/plain": [
       "<Figure size 432x288 with 1 Axes>"
      ]
     },
     "metadata": {
      "needs_background": "light"
     },
     "output_type": "display_data"
    }
   ],
   "source": [
    "plt.plot()\n",
    "plt.boxplot([itm_dv_specific, atm_dv_specific, otm_dv_specific], labels = strike_price_labels, showfliers = False);\n",
    "plt.ylabel(\"Mean error\");\n",
    "plt.savefig(\"strike_price_delta_vega_specific.pdf\")"
   ]
  },
  {
   "cell_type": "code",
   "execution_count": 31,
   "metadata": {},
   "outputs": [],
   "source": [
    "itm_dv = dv_analysis_df[dv_analysis_df[\"Offset\"] == -10][\"Mean\"]\n",
    "atm_dv = dv_analysis_df[dv_analysis_df[\"Offset\"] == 0][\"Mean\"]\n",
    "otm_dv = dv_analysis_df[dv_analysis_df[\"Offset\"] == 10][\"Mean\"]"
   ]
  },
  {
   "cell_type": "code",
   "execution_count": 32,
   "metadata": {},
   "outputs": [
    {
     "data": {
      "text/plain": [
       "1.805499916027033e-06"
      ]
     },
     "execution_count": 32,
     "metadata": {},
     "output_type": "execute_result"
    }
   ],
   "source": [
    "atm_dv.mean()"
   ]
  },
  {
   "cell_type": "code",
   "execution_count": 60,
   "metadata": {},
   "outputs": [
    {
     "data": {
      "image/png": "[encoded data removed]",
      "text/plain": [
       "<Figure size 432x288 with 1 Axes>"
      ]
     },
     "metadata": {
      "needs_background": "light"
     },
     "output_type": "display_data"
    }
   ],
   "source": [
    "plt.plot()\n",
    "plt.boxplot([itm_dv, atm_dv, otm_dv], labels = strike_price_labels[:], showfliers = False);\n",
    "plt.ylabel(\"Mean error\");\n",
    "plt.savefig(\"strike_price_delta_vega_general.pdf\")"
   ]
  },
  {
   "cell_type": "markdown",
   "metadata": {},
   "source": [
    "## Frequency"
   ]
  },
  {
   "cell_type": "code",
   "execution_count": 34,
   "metadata": {},
   "outputs": [],
   "source": [
    "# ATM call with different frequencies\n",
    "offset = 0\n",
    "ttm = 40\n",
    "freq_means_specific = delta_analysis_df[(delta_analysis_df[\"Offset\"] == offset) & (delta_analysis_df[\"TTM\"] == ttm)].groupby(\"Frequency\")\n",
    "freq_means_specific = [data[\"Mean\"].dropna() for i, data in freq_means_specific]\n",
    "freq_means_dv_specific = dv_analysis_df[(dv_analysis_df[\"Offset\"] == offset) & (dv_analysis_df[\"TTM\"] == ttm)].groupby(\"Frequency\")\n",
    "freq_means_dv_specific = [data[\"Mean\"].dropna() for i, data in freq_means_dv_specific]"
   ]
  },
  {
   "cell_type": "code",
   "execution_count": 49,
   "metadata": {},
   "outputs": [
    {
     "data": {
      "image/png": "[encoded data removed]",
      "text/plain": [
       "<Figure size 432x288 with 1 Axes>"
      ]
     },
     "metadata": {
      "needs_background": "light"
     },
     "output_type": "display_data"
    }
   ],
   "source": [
    "plt.plot()\n",
    "plt.xlabel(\"Days between hedges\")\n",
    "plt.ylabel(\"Mean error\")\n",
    "plt.boxplot(freq_means_specific, showfliers = False, labels = freqs);\n",
    "plt.savefig(\"freq_delta_1_spec.pdf\")"
   ]
  },
  {
   "cell_type": "code",
   "execution_count": 57,
   "metadata": {},
   "outputs": [
    {
     "data": {
      "image/png": "[encoded data removed]",
      "text/plain": [
       "<Figure size 432x288 with 1 Axes>"
      ]
     },
     "metadata": {
      "needs_background": "light"
     },
     "output_type": "display_data"
    }
   ],
   "source": [
    "plt.plot()\n",
    "plt.xlabel(\"Days between hedges\")\n",
    "plt.ylabel(\"Mean error\")\n",
    "plt.boxplot(freq_means_dv_specific, showfliers = False, labels = freqs);\n",
    "plt.savefig(\"freq_delta_vega_specific.pdf\")"
   ]
  },
  {
   "cell_type": "code",
   "execution_count": 36,
   "metadata": {},
   "outputs": [],
   "source": [
    "freq_means = delta_analysis_df[(delta_analysis_df[\"Offset\"] == offset)].groupby(\"Frequency\")\n",
    "freq_means = [data[\"Mean\"].dropna() for i, data in freq_means]\n",
    "freq_means_dv = dv_analysis_df[(dv_analysis_df[\"Offset\"] == offset)].groupby(\"Frequency\")\n",
    "freq_means_dv = [data[\"Mean\"].dropna() for i, data in freq_means_dv]"
   ]
  },
  {
   "cell_type": "code",
   "execution_count": 51,
   "metadata": {},
   "outputs": [
    {
     "data": {
      "image/png": "[encoded data removed]",
      "text/plain": [
       "<Figure size 432x288 with 1 Axes>"
      ]
     },
     "metadata": {
      "needs_background": "light"
     },
     "output_type": "display_data"
    }
   ],
   "source": [
    "plt.plot()\n",
    "plt.xlabel(\"Days between hedges\")\n",
    "plt.ylabel(\"Mean error\")\n",
    "plt.boxplot(freq_means, showfliers = False, labels = freqs);\n",
    "plt.savefig(\"freq_delta_general.pdf\")"
   ]
  },
  {
   "cell_type": "code",
   "execution_count": 58,
   "metadata": {},
   "outputs": [
    {
     "data": {
      "image/png": "[encoded data removed]",
      "text/plain": [
       "<Figure size 432x288 with 1 Axes>"
      ]
     },
     "metadata": {
      "needs_background": "light"
     },
     "output_type": "display_data"
    }
   ],
   "source": [
    "plt.plot()\n",
    "plt.xlabel(\"Days between hedges\")\n",
    "plt.ylabel(\"Mean error\")\n",
    "plt.boxplot(freq_means_dv, showfliers = False, labels = freqs);\n",
    "plt.savefig(\"freq_delta_vega_general.pdf\")"
   ]
  },
  {
   "cell_type": "markdown",
   "metadata": {},
   "source": [
    "## Combined analysis"
   ]
  },
  {
   "cell_type": "code",
   "execution_count": 128,
   "metadata": {},
   "outputs": [],
   "source": [
    "def build_heatmap(correlation, labels1, labels2, title, xlabel, ylabel, size = (16, 8)):\n",
    "    fig, ax = plt.subplots(figsize=size)\n",
    "    im = ax.imshow(correlation, cmap=\"seismic\")\n",
    "\n",
    "    # Show all ticks and label them with the respective list entries\n",
    "    ax.set_xticks(np.arange(len(labels1)))\n",
    "    ax.set_yticks(np.arange(len(labels2)))\n",
    "    \n",
    "    ax.set_xticklabels(labels1, fontsize = 16)\n",
    "    ax.set_yticklabels(labels2, fontsize = 16)\n",
    "    \n",
    "    ax.set_xlabel(xlabel, fontsize = 16)\n",
    "    ax.set_ylabel(ylabel, fontsize = 16)\n",
    "\n",
    "    \n",
    "    # Rotate the tick labels and set their alignment.\n",
    "    plt.setp(ax.get_xticklabels(), rotation=45, ha=\"right\",\n",
    "             rotation_mode=\"anchor\")\n",
    "\n",
    "    # Loop over data dimensions and create text annotations.\n",
    "    for i in range(len(labels2)):\n",
    "        for j in range(len(labels1)):\n",
    "            text = ax.text(j, i, correlation[i, j],\n",
    "                           ha=\"center\", va=\"center\", color=\"white\", size=20)\n",
    "\n",
    "    ax.set_title(title, fontsize = 16)\n",
    "    fig.tight_layout()\n",
    "    return (fig, ax)\n"
   ]
  },
  {
   "cell_type": "code",
   "execution_count": 42,
   "metadata": {},
   "outputs": [],
   "source": [
    "combined_delta_df = delta_analysis_df.groupby([\"Offset\", \"Frequency\"], as_index = False).agg({\"Mean\": \"mean\"})\n",
    "combined_dv_df = dv_analysis_df.groupby([\"Offset\", \"Frequency\"], as_index = False).agg({\"Mean\": \"mean\"})"
   ]
  },
  {
   "cell_type": "code",
   "execution_count": 43,
   "metadata": {},
   "outputs": [],
   "source": [
    "combined_delta_df = combined_delta_df.sort_values([\"Offset\", \"Frequency\"])\n",
    "combined_dv_df = combined_dv_df.sort_values([\"Offset\", \"Frequency\"])"
   ]
  },
  {
   "cell_type": "code",
   "execution_count": 44,
   "metadata": {},
   "outputs": [],
   "source": [
    "mean_data = combined_delta_df[\"Mean\"].to_numpy().reshape((len(offsets), len(freqs)))\n",
    "mean_data = mean_data * 1e6\n",
    "mean_data = np.round(mean_data, 2)\n",
    "\n",
    "mean_dv_data = combined_dv_df[\"Mean\"].to_numpy().reshape((len(offsets), len(freqs)))\n",
    "mean_dv_data = mean_dv_data * 1e6\n",
    "mean_dv_data = np.round(mean_dv_data, 2)"
   ]
  },
  {
   "cell_type": "code",
   "execution_count": 45,
   "metadata": {},
   "outputs": [],
   "source": [
    "# Round and reverse the freq axis\n",
    "freq_labels = list(reversed(freqs))"
   ]
  },
  {
   "cell_type": "code",
   "execution_count": 133,
   "metadata": {},
   "outputs": [
    {
     "data": {
      "image/png": "[encoded data removed]",
      "text/plain": [
       "<Figure size 1152x576 with 1 Axes>"
      ]
     },
     "metadata": {
      "needs_background": "light"
     },
     "output_type": "display_data"
    }
   ],
   "source": [
    "build_heatmap(np.flip(mean_data, axis = 1).T, offsets, freq_labels, \"Heatmap of delta hedging error (10^(-6))\", \"Strike price offset\", \"Days between hedges\");\n",
    "plt.savefig(\"heatmap_delta_final.pdf\")"
   ]
  },
  {
   "cell_type": "code",
   "execution_count": 134,
   "metadata": {},
   "outputs": [
    {
     "data": {
      "image/png": "[encoded data removed]",
      "text/plain": [
       "<Figure size 1152x576 with 1 Axes>"
      ]
     },
     "metadata": {
      "needs_background": "light"
     },
     "output_type": "display_data"
    }
   ],
   "source": [
    "build_heatmap(np.flip(mean_dv_data, axis = 1).T, offsets, freq_labels, \"Heatmap of delta-vega hedging error (10^(-6))\", \"Strike price offset\", \"Days between hedges\");\n",
    "plt.savefig(\"heatmap_dv_final.pdf\")"
   ]
  },
  {
   "cell_type": "markdown",
   "metadata": {},
   "source": [
    "## Comparison"
   ]
  },
  {
   "cell_type": "code",
   "execution_count": 84,
   "metadata": {},
   "outputs": [],
   "source": [
    "atm_delta = delta_analysis_df[delta_analysis_df[\"Offset\"] == 0][\"Mean\"]\n",
    "atm_dv = dv_analysis_df[dv_analysis_df[\"Offset\"] == 0][\"Mean\"]\n",
    "strategy_labels = [\"Delta\", \"Delta-Vega\"]"
   ]
  },
  {
   "cell_type": "code",
   "execution_count": 85,
   "metadata": {},
   "outputs": [
    {
     "data": {
      "image/png": "[encoded data removed]",
      "text/plain": [
       "<Figure size 432x288 with 1 Axes>"
      ]
     },
     "metadata": {
      "needs_background": "light"
     },
     "output_type": "display_data"
    }
   ],
   "source": [
    "plt.xlabel(\"Strategy\")\n",
    "plt.ylabel(\"Mean error\")\n",
    "plt.boxplot([atm_delta, atm_dv], showfliers = False, labels = strategy_labels);\n",
    "#plt.savefig(\"atm_comparison_1.pdf\")"
   ]
  },
  {
   "cell_type": "code",
   "execution_count": 86,
   "metadata": {},
   "outputs": [
    {
     "data": {
      "image/png": "[encoded data removed]",
      "text/plain": [
       "<Figure size 432x288 with 1 Axes>"
      ]
     },
     "metadata": {
      "needs_background": "light"
     },
     "output_type": "display_data"
    }
   ],
   "source": [
    "# comparing ITM -10\n",
    "offset = -10\n",
    "itm_delta = delta_analysis_df[delta_analysis_df[\"Offset\"] == offset][\"Mean\"]\n",
    "itm_dv = dv_analysis_df[dv_analysis_df[\"Offset\"] == offset][\"Mean\"]\n",
    "\n",
    "plt.xlabel(\"Strategy\")\n",
    "plt.ylabel(\"Mean error\")\n",
    "plt.boxplot([itm_delta, itm_dv], showfliers = False, labels = strategy_labels);\n",
    "#plt.savefig(\"itm_comparison_1.pdf\")"
   ]
  },
  {
   "cell_type": "code",
   "execution_count": 87,
   "metadata": {},
   "outputs": [
    {
     "data": {
      "image/png": "[encoded data removed]",
      "text/plain": [
       "<Figure size 432x288 with 1 Axes>"
      ]
     },
     "metadata": {
      "needs_background": "light"
     },
     "output_type": "display_data"
    }
   ],
   "source": [
    "# comparing OTM 10\n",
    "offset = 10\n",
    "otm_delta = delta_analysis_df[delta_analysis_df[\"Offset\"] == offset][\"Mean\"]\n",
    "otm_dv = dv_analysis_df[dv_analysis_df[\"Offset\"] == offset][\"Mean\"]\n",
    "\n",
    "plt.xlabel(\"Strategy\")\n",
    "plt.ylabel(\"Mean error\")\n",
    "plt.boxplot([otm_delta, otm_dv], showfliers = False, labels = strategy_labels);\n",
    "#plt.savefig(\"otm_comparison_1.pdf\")"
   ]
  },
  {
   "cell_type": "markdown",
   "metadata": {},
   "source": [
    "## Deviation analysis"
   ]
  },
  {
   "cell_type": "code",
   "execution_count": 103,
   "metadata": {},
   "outputs": [],
   "source": [
    "offset = 0\n",
    "ttm = 40\n",
    "delta_t = 2\n",
    "\n",
    "# Compare ATM 40 day options\n",
    "delta_slice = delta_analysis_df[(delta_analysis_df[\"Offset\"] == offset) & (delta_analysis_df[\"TTM\"] == ttm) & (delta_analysis_df[\"Frequency\"] == delta_t)]\n",
    "dv_slice = dv_analysis_df[(dv_analysis_df[\"Offset\"] == offset) & (dv_analysis_df[\"TTM\"] == ttm) & (dv_analysis_df[\"Frequency\"] == delta_t)]\n",
    "\n",
    "\n",
    "strategy_labels = [\"Delta\", \"Delta-Vega\"]"
   ]
  },
  {
   "cell_type": "code",
   "execution_count": 104,
   "metadata": {},
   "outputs": [],
   "source": [
    "delta_slice_std = delta_slice[\"Std\"]\n",
    "dv_slice_std = dv_slice[\"Std\"]"
   ]
  },
  {
   "cell_type": "code",
   "execution_count": 105,
   "metadata": {},
   "outputs": [
    {
     "data": {
      "text/plain": [
       "1.6404441514845649e-06"
      ]
     },
     "execution_count": 105,
     "metadata": {},
     "output_type": "execute_result"
    }
   ],
   "source": [
    "delta_slice_std.mean()\n",
    "dv_slice_std.mean()"
   ]
  },
  {
   "cell_type": "code",
   "execution_count": 106,
   "metadata": {},
   "outputs": [
    {
     "data": {
      "image/png": "[encoded data removed]",
      "text/plain": [
       "<Figure size 432x288 with 1 Axes>"
      ]
     },
     "metadata": {
      "needs_background": "light"
     },
     "output_type": "display_data"
    }
   ],
   "source": [
    "plt.plot()\n",
    "plt.boxplot([delta_slice_std, dv_slice_std], labels = strategy_labels, showfliers = False);\n",
    "plt.xlabel(\"Strategy\")\n",
    "plt.ylabel(\"Standard deviation\")\n",
    "# plt.savefig(\"std_compare_spec.pdf\")\n",
    "plt.plot();"
   ]
  },
  {
   "cell_type": "code",
   "execution_count": 107,
   "metadata": {},
   "outputs": [
    {
     "data": {
      "text/html": [
       "<table border=\"1\" class=\"dataframe\">\n",
       "  <thead>\n",
       "    <tr style=\"text-align: right;\">\n",
       "      <th></th>\n",
       "      <th>ATM Strike</th>\n",
       "      <th>Offset</th>\n",
       "      <th>E</th>\n",
       "      <th>Frequency</th>\n",
       "      <th>TTM</th>\n",
       "      <th>Type</th>\n",
       "      <th>Mean</th>\n",
       "      <th>Std</th>\n",
       "    </tr>\n",
       "  </thead>\n",
       "  <tbody>\n",
       "    <tr>\n",
       "      <th style=\"font-style: italic;\" ></th>\n",
       "      <td style=\"font-style: italic;\" >&lt;float64&gt;</td>\n",
       "      <td style=\"font-style: italic;\" >&lt;int64&gt;</td>\n",
       "      <td style=\"font-style: italic;\" >&lt;float64&gt;</td>\n",
       "      <td style=\"font-style: italic;\" >&lt;int64&gt;</td>\n",
       "      <td style=\"font-style: italic;\" >&lt;int64&gt;</td>\n",
       "      <td style=\"font-style: italic;\" >&lt;object&gt;</td>\n",
       "      <td style=\"font-style: italic;\" >&lt;float64&gt;</td>\n",
       "      <td style=\"font-style: italic;\" >&lt;float64&gt;</td>\n",
       "    </tr>\n",
       "    <tr>\n",
       "      <th>2</th>\n",
       "      <td>0.46</td>\n",
       "      <td>0</td>\n",
       "      <td>0.46</td>\n",
       "      <td>2</td>\n",
       "      <td>36</td>\n",
       "      <td>ATM</td>\n",
       "      <td>1.068884e-05</td>\n",
       "      <td>0.000020</td>\n",
       "    </tr>\n",
       "    <tr>\n",
       "      <th>8</th>\n",
       "      <td>0.46</td>\n",
       "      <td>0</td>\n",
       "      <td>0.46</td>\n",
       "      <td>4</td>\n",
       "      <td>36</td>\n",
       "      <td>ATM</td>\n",
       "      <td>9.655528e-06</td>\n",
       "      <td>0.000019</td>\n",
       "    </tr>\n",
       "    <tr>\n",
       "      <th>14</th>\n",
       "      <td>0.46</td>\n",
       "      <td>0</td>\n",
       "      <td>0.46</td>\n",
       "      <td>7</td>\n",
       "      <td>36</td>\n",
       "      <td>ATM</td>\n",
       "      <td>1.113662e-05</td>\n",
       "      <td>0.000020</td>\n",
       "    </tr>\n",
       "    <tr>\n",
       "      <th>20</th>\n",
       "      <td>0.46</td>\n",
       "      <td>0</td>\n",
       "      <td>0.46</td>\n",
       "      <td>10</td>\n",
       "      <td>36</td>\n",
       "      <td>ATM</td>\n",
       "      <td>1.034098e-05</td>\n",
       "      <td>0.000022</td>\n",
       "    </tr>\n",
       "    <tr>\n",
       "      <th>...</th>\n",
       "      <td>...</td>\n",
       "      <td>...</td>\n",
       "      <td>...</td>\n",
       "      <td>...</td>\n",
       "      <td>...</td>\n",
       "      <td>...</td>\n",
       "      <td>...</td>\n",
       "      <td>...</td>\n",
       "    </tr>\n",
       "    <tr>\n",
       "      <th>26</th>\n",
       "      <td>0.46</td>\n",
       "      <td>0</td>\n",
       "      <td>0.46</td>\n",
       "      <td>14</td>\n",
       "      <td>36</td>\n",
       "      <td>ATM</td>\n",
       "      <td>1.433580e-05</td>\n",
       "      <td>0.000031</td>\n",
       "    </tr>\n",
       "    <tr>\n",
       "      <th>3549</th>\n",
       "      <td>0.54</td>\n",
       "      <td>0</td>\n",
       "      <td>0.54</td>\n",
       "      <td>18</td>\n",
       "      <td>36</td>\n",
       "      <td>ATM</td>\n",
       "      <td>6.521171e-07</td>\n",
       "      <td>0.000001</td>\n",
       "    </tr>\n",
       "    <tr>\n",
       "      <th>3554</th>\n",
       "      <td>0.54</td>\n",
       "      <td>0</td>\n",
       "      <td>0.54</td>\n",
       "      <td>18</td>\n",
       "      <td>38</td>\n",
       "      <td>ATM</td>\n",
       "      <td>9.650376e-07</td>\n",
       "      <td>0.000002</td>\n",
       "    </tr>\n",
       "    <tr>\n",
       "      <th>3559</th>\n",
       "      <td>0.54</td>\n",
       "      <td>0</td>\n",
       "      <td>0.54</td>\n",
       "      <td>18</td>\n",
       "      <td>40</td>\n",
       "      <td>ATM</td>\n",
       "      <td>1.080222e-06</td>\n",
       "      <td>0.000002</td>\n",
       "    </tr>\n",
       "    <tr>\n",
       "      <th>3564</th>\n",
       "      <td>0.54</td>\n",
       "      <td>0</td>\n",
       "      <td>0.54</td>\n",
       "      <td>18</td>\n",
       "      <td>42</td>\n",
       "      <td>ATM</td>\n",
       "      <td>1.462571e-06</td>\n",
       "      <td>0.000003</td>\n",
       "    </tr>\n",
       "    <tr>\n",
       "      <th>3569</th>\n",
       "      <td>0.54</td>\n",
       "      <td>0</td>\n",
       "      <td>0.54</td>\n",
       "      <td>18</td>\n",
       "      <td>44</td>\n",
       "      <td>ATM</td>\n",
       "      <td>8.074285e-07</td>\n",
       "      <td>0.000002</td>\n",
       "    </tr>\n",
       "  </tbody>\n",
       "</table>\n",
       "<p>480 rows × 8 columns</p>"
      ],
      "text/plain": [
       "      ATM Strike  Offset         E  Frequency     TTM     Type          Mean  \\\n",
       "       <float64> <int64> <float64>    <int64> <int64> <object>     <float64>   \n",
       "2           0.46       0      0.46          2      36      ATM  1.068884e-05   \n",
       "8           0.46       0      0.46          4      36      ATM  9.655528e-06   \n",
       "14          0.46       0      0.46          7      36      ATM  1.113662e-05   \n",
       "20          0.46       0      0.46         10      36      ATM  1.034098e-05   \n",
       "...          ...     ...       ...        ...     ...      ...           ...   \n",
       "26          0.46       0      0.46         14      36      ATM  1.433580e-05   \n",
       "3549        0.54       0      0.54         18      36      ATM  6.521171e-07   \n",
       "3554        0.54       0      0.54         18      38      ATM  9.650376e-07   \n",
       "3559        0.54       0      0.54         18      40      ATM  1.080222e-06   \n",
       "3564        0.54       0      0.54         18      42      ATM  1.462571e-06   \n",
       "3569        0.54       0      0.54         18      44      ATM  8.074285e-07   \n",
       "\n",
       "           Std  \n",
       "     <float64>  \n",
       "2     0.000020  \n",
       "8     0.000019  \n",
       "14    0.000020  \n",
       "20    0.000022  \n",
       "...        ...  \n",
       "26    0.000031  \n",
       "3549  0.000001  \n",
       "3554  0.000002  \n",
       "3559  0.000002  \n",
       "3564  0.000003  \n",
       "3569  0.000002  \n",
       "\n",
       "[480 rows x 8 columns]"
      ]
     },
     "execution_count": 107,
     "metadata": {},
     "output_type": "execute_result"
    }
   ],
   "source": [
    "# Overall ATM options\n",
    "offset = 0\n",
    "delta_gen = delta_analysis_df[(delta_analysis_df[\"Offset\"] == offset)]\n",
    "dv_gen = dv_analysis_df[(dv_analysis_df[\"Offset\"] == offset)]"
   ]
  },
  {
   "cell_type": "code",
   "execution_count": 108,
   "metadata": {},
   "outputs": [],
   "source": [
    "delta_gen_std = delta_gen[\"Std\"]\n",
    "dv_gen_std = dv_gen[\"Std\"]"
   ]
  },
  {
   "cell_type": "code",
   "execution_count": 109,
   "metadata": {},
   "outputs": [
    {
     "data": {
      "image/png": "[encoded data removed]",
      "text/plain": [
       "<Figure size 432x288 with 1 Axes>"
      ]
     },
     "metadata": {
      "needs_background": "light"
     },
     "output_type": "display_data"
    }
   ],
   "source": [
    "plt.plot()\n",
    "plt.boxplot([delta_gen_std, dv_gen_std], labels = strategy_labels, showfliers = False);\n",
    "plt.xlabel(\"Strategy\")\n",
    "plt.ylabel(\"Standard deviation\")\n",
    "# plt.savefig(\"std_compare_gen.pdf\")\n",
    "plt.plot();"
   ]
  },
  {
   "cell_type": "code",
   "execution_count": 119,
   "metadata": {},
   "outputs": [],
   "source": [
    "offset = -10\n",
    "ttm = 40\n",
    "delta_t = 2\n",
    "\n",
    "# Compare ATM 40 day options\n",
    "delta_slice = delta_analysis_df[(delta_analysis_df[\"Offset\"] == offset) & (delta_analysis_df[\"TTM\"] == ttm) & (delta_analysis_df[\"Frequency\"] == delta_t)]\n",
    "dv_slice = dv_analysis_df[(dv_analysis_df[\"Offset\"] == offset) & (dv_analysis_df[\"TTM\"] == ttm) & (dv_analysis_df[\"Frequency\"] == delta_t)]\n",
    "\n",
    "delta_slice_std = delta_slice[\"Std\"]\n",
    "dv_slice_std = dv_slice[\"Std\"]\n",
    "\n",
    "# Overall\n",
    "delta_gen = delta_analysis_df[(delta_analysis_df[\"Offset\"] == offset)]\n",
    "dv_gen = dv_analysis_df[(dv_analysis_df[\"Offset\"] == offset)]\n",
    "\n",
    "delta_gen_std = delta_gen[\"Std\"]\n",
    "dv_gen_std = dv_gen[\"Std\"]"
   ]
  },
  {
   "cell_type": "code",
   "execution_count": 120,
   "metadata": {},
   "outputs": [
    {
     "data": {
      "image/png": "[encoded data removed]",
      "text/plain": [
       "<Figure size 432x288 with 1 Axes>"
      ]
     },
     "metadata": {
      "needs_background": "light"
     },
     "output_type": "display_data"
    }
   ],
   "source": [
    "plt.plot()\n",
    "plt.boxplot([delta_slice_std, dv_slice_std], labels = strategy_labels, showfliers = False);\n",
    "plt.xlabel(\"Strategy\")\n",
    "plt.ylabel(\"Standard deviation\")\n",
    "plt.savefig(\"std_compare_spec_itm.pdf\")\n",
    "plt.plot();"
   ]
  },
  {
   "cell_type": "code",
   "execution_count": 121,
   "metadata": {},
   "outputs": [
    {
     "data": {
      "image/png": "[encoded data removed]",
      "text/plain": [
       "<Figure size 432x288 with 1 Axes>"
      ]
     },
     "metadata": {
      "needs_background": "light"
     },
     "output_type": "display_data"
    }
   ],
   "source": [
    "plt.plot()\n",
    "plt.boxplot([delta_gen_std, dv_gen_std], labels = strategy_labels, showfliers = False);\n",
    "plt.xlabel(\"Strategy\")\n",
    "plt.ylabel(\"Standard deviation\")\n",
    "plt.savefig(\"std_compare_gen_itm.pdf\")\n",
    "plt.plot();"
   ]
  },
  {
   "cell_type": "code",
   "execution_count": 122,
   "metadata": {},
   "outputs": [],
   "source": [
    "offset = 10\n",
    "ttm = 40\n",
    "delta_t = 2\n",
    "\n",
    "# Compare ATM 40 day options\n",
    "delta_slice = delta_analysis_df[(delta_analysis_df[\"Offset\"] == offset) & (delta_analysis_df[\"TTM\"] == ttm) & (delta_analysis_df[\"Frequency\"] == delta_t)]\n",
    "dv_slice = dv_analysis_df[(dv_analysis_df[\"Offset\"] == offset) & (dv_analysis_df[\"TTM\"] == ttm) & (dv_analysis_df[\"Frequency\"] == delta_t)]\n",
    "\n",
    "delta_slice_std = delta_slice[\"Std\"]\n",
    "dv_slice_std = dv_slice[\"Std\"]\n",
    "\n",
    "# Overall\n",
    "delta_gen = delta_analysis_df[(delta_analysis_df[\"Offset\"] == offset)]\n",
    "dv_gen = dv_analysis_df[(dv_analysis_df[\"Offset\"] == offset)]\n",
    "\n",
    "delta_gen_std = delta_gen[\"Std\"]\n",
    "dv_gen_std = dv_gen[\"Std\"]"
   ]
  },
  {
   "cell_type": "code",
   "execution_count": 123,
   "metadata": {},
   "outputs": [
    {
     "data": {
      "image/png": "[encoded data removed]",
      "text/plain": [
       "<Figure size 432x288 with 1 Axes>"
      ]
     },
     "metadata": {
      "needs_background": "light"
     },
     "output_type": "display_data"
    }
   ],
   "source": [
    "plt.plot()\n",
    "plt.boxplot([delta_slice_std, dv_slice_std], labels = strategy_labels, showfliers = False);\n",
    "plt.xlabel(\"Strategy\")\n",
    "plt.ylabel(\"Standard deviation\")\n",
    "plt.savefig(\"std_compare_spec_otm.pdf\")\n",
    "plt.plot();"
   ]
  },
  {
   "cell_type": "code",
   "execution_count": 124,
   "metadata": {},
   "outputs": [
    {
     "data": {
      "image/png": "[encoded data removed]",
      "text/plain": [
       "<Figure size 432x288 with 1 Axes>"
      ]
     },
     "metadata": {
      "needs_background": "light"
     },
     "output_type": "display_data"
    }
   ],
   "source": [
    "plt.plot()\n",
    "plt.boxplot([delta_gen_std, dv_gen_std], labels = strategy_labels, showfliers = False);\n",
    "plt.xlabel(\"Strategy\")\n",
    "plt.ylabel(\"Standard deviation\")\n",
    "plt.savefig(\"std_compare_gen_otm.pdf\")\n",
    "plt.plot();"
   ]
  }
 ],
 "metadata": {
  "kernelspec": {
   "display_name": "Python 3",
   "language": "python",
   "name": "python3"
  },
  "language_info": {
   "codemirror_mode": {
    "name": "ipython",
    "version": 3
   },
   "file_extension": ".py",
   "mimetype": "text/x-python",
   "name": "python",
   "nbconvert_exporter": "python",
   "pygments_lexer": "ipython3",
   "version": "3.8.10"
  }
 },
 "nbformat": 4,
 "nbformat_minor": 4
}
